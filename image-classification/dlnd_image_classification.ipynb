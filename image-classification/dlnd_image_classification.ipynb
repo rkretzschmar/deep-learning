{
 "cells": [
  {
   "cell_type": "markdown",
   "metadata": {
    "collapsed": true,
    "deletable": true,
    "editable": true
   },
   "source": [
    "# Image Classification\n",
    "In this project, you'll classify images from the [CIFAR-10 dataset](https://www.cs.toronto.edu/~kriz/cifar.html).  The dataset consists of airplanes, dogs, cats, and other objects. You'll preprocess the images, then train a convolutional neural network on all the samples. The images need to be normalized and the labels need to be one-hot encoded.  You'll get to apply what you learned and build a convolutional, max pooling, dropout, and fully connected layers.  At the end, you'll get to see your neural network's predictions on the sample images.\n",
    "## Get the Data\n",
    "Run the following cell to download the [CIFAR-10 dataset for python](https://www.cs.toronto.edu/~kriz/cifar-10-python.tar.gz)."
   ]
  },
  {
   "cell_type": "code",
   "execution_count": 1,
   "metadata": {
    "collapsed": false,
    "deletable": true,
    "editable": true
   },
   "outputs": [
    {
     "name": "stdout",
     "output_type": "stream",
     "text": [
      "All files found!\n"
     ]
    }
   ],
   "source": [
    "\"\"\"\n",
    "DON'T MODIFY ANYTHING IN THIS CELL THAT IS BELOW THIS LINE\n",
    "\"\"\"\n",
    "from urllib.request import urlretrieve\n",
    "from os.path import isfile, isdir\n",
    "from tqdm import tqdm\n",
    "import problem_unittests as tests\n",
    "import tarfile\n",
    "\n",
    "cifar10_dataset_folder_path = 'cifar-10-batches-py'\n",
    "\n",
    "class DLProgress(tqdm):\n",
    "    last_block = 0\n",
    "\n",
    "    def hook(self, block_num=1, block_size=1, total_size=None):\n",
    "        self.total = total_size\n",
    "        self.update((block_num - self.last_block) * block_size)\n",
    "        self.last_block = block_num\n",
    "\n",
    "if not isfile('cifar-10-python.tar.gz'):\n",
    "    with DLProgress(unit='B', unit_scale=True, miniters=1, desc='CIFAR-10 Dataset') as pbar:\n",
    "        urlretrieve(\n",
    "            'https://www.cs.toronto.edu/~kriz/cifar-10-python.tar.gz',\n",
    "            'cifar-10-python.tar.gz',\n",
    "            pbar.hook)\n",
    "\n",
    "if not isdir(cifar10_dataset_folder_path):\n",
    "    with tarfile.open('cifar-10-python.tar.gz') as tar:\n",
    "        tar.extractall()\n",
    "        tar.close()\n",
    "\n",
    "\n",
    "tests.test_folder_path(cifar10_dataset_folder_path)"
   ]
  },
  {
   "cell_type": "markdown",
   "metadata": {
    "deletable": true,
    "editable": true
   },
   "source": [
    "## Explore the Data\n",
    "The dataset is broken into batches to prevent your machine from running out of memory.  The CIFAR-10 dataset consists of 5 batches, named `data_batch_1`, `data_batch_2`, etc.. Each batch contains the labels and images that are one of the following:\n",
    "* airplane\n",
    "* automobile\n",
    "* bird\n",
    "* cat\n",
    "* deer\n",
    "* dog\n",
    "* frog\n",
    "* horse\n",
    "* ship\n",
    "* truck\n",
    "\n",
    "Understanding a dataset is part of making predictions on the data.  Play around with the code cell below by changing the `batch_id` and `sample_id`. The `batch_id` is the id for a batch (1-5). The `sample_id` is the id for a image and label pair in the batch.\n",
    "\n",
    "Ask yourself \"What are all possible labels?\", \"What is the range of values for the image data?\", \"Are the labels in order or random?\".  Answers to questions like these will help you preprocess the data and end up with better predictions."
   ]
  },
  {
   "cell_type": "code",
   "execution_count": 2,
   "metadata": {
    "collapsed": false,
    "deletable": true,
    "editable": true
   },
   "outputs": [
    {
     "name": "stdout",
     "output_type": "stream",
     "text": [
      "\n",
      "Stats of batch 1:\n",
      "Samples: 10000\n",
      "Label Counts: {0: 1005, 1: 974, 2: 1032, 3: 1016, 4: 999, 5: 937, 6: 1030, 7: 1001, 8: 1025, 9: 981}\n",
      "First 20 Labels: [6, 9, 9, 4, 1, 1, 2, 7, 8, 3, 4, 7, 7, 2, 9, 9, 9, 3, 2, 6]\n",
      "\n",
      "Example of Image 5:\n",
      "Image - Min Value: 0 Max Value: 252\n",
      "Image - Shape: (32, 32, 3)\n",
      "Label - Label Id: 1 Name: automobile\n"
     ]
    },
    {
     "data": {
      "image/png": "[encoded data removed]",
      "text/plain": [
       "<matplotlib.figure.Figure at 0x7f848053a358>"
      ]
     },
     "metadata": {
      "image/png": {
       "height": 250,
       "width": 253
      }
     },
     "output_type": "display_data"
    }
   ],
   "source": [
    "%matplotlib inline\n",
    "%config InlineBackend.figure_format = 'retina'\n",
    "\n",
    "import helper\n",
    "import numpy as np\n",
    "\n",
    "# Explore the dataset\n",
    "batch_id = 1\n",
    "sample_id = 5\n",
    "helper.display_stats(cifar10_dataset_folder_path, batch_id, sample_id)"
   ]
  },
  {
   "cell_type": "markdown",
   "metadata": {
    "deletable": true,
    "editable": true
   },
   "source": [
    "## Implement Preprocess Functions\n",
    "### Normalize\n",
    "In the cell below, implement the `normalize` function to take in image data, `x`, and return it as a normalized Numpy array. The values should be in the range of 0 to 1, inclusive.  The return object should be the same shape as `x`."
   ]
  },
  {
   "cell_type": "code",
   "execution_count": 3,
   "metadata": {
    "collapsed": false,
    "deletable": true,
    "editable": true
   },
   "outputs": [
    {
     "name": "stdout",
     "output_type": "stream",
     "text": [
      "Tests Passed\n"
     ]
    }
   ],
   "source": [
    "def normalize(x):\n",
    "    \"\"\"\n",
    "    Normalize a list of sample image data in the range of 0 to 1\n",
    "    : x: List of image data.  The image shape is (32, 32, 3)\n",
    "    : return: Numpy array of normalize data\n",
    "    \"\"\"\n",
    "    a = 0.0\n",
    "    b = 1.0\n",
    "    range_min = 0\n",
    "    range_max = 255\n",
    "    return a + ( ( (x - range_min)*(b - a) )/( range_max - range_min ) )\n",
    "\n",
    "\n",
    "\"\"\"\n",
    "DON'T MODIFY ANYTHING IN THIS CELL THAT IS BELOW THIS LINE\n",
    "\"\"\"\n",
    "tests.test_normalize(normalize)"
   ]
  },
  {
   "cell_type": "markdown",
   "metadata": {
    "deletable": true,
    "editable": true
   },
   "source": [
    "### One-hot encode\n",
    "Just like the previous code cell, you'll be implementing a function for preprocessing.  This time, you'll implement the `one_hot_encode` function. The input, `x`, are a list of labels.  Implement the function to return the list of labels as One-Hot encoded Numpy array.  The possible values for labels are 0 to 9. The one-hot encoding function should return the same encoding for each value between each call to `one_hot_encode`.  Make sure to save the map of encodings outside the function.\n",
    "\n",
    "Hint: Don't reinvent the wheel."
   ]
  },
  {
   "cell_type": "code",
   "execution_count": 4,
   "metadata": {
    "collapsed": false,
    "deletable": true,
    "editable": true
   },
   "outputs": [
    {
     "name": "stdout",
     "output_type": "stream",
     "text": [
      "Tests Passed\n"
     ]
    }
   ],
   "source": [
    "from sklearn.preprocessing import LabelBinarizer\n",
    "\n",
    "def one_hot_encode(x):\n",
    "    \"\"\"\n",
    "    One hot encode a list of sample labels. Return a one-hot encoded vector for each label.\n",
    "    : x: List of sample Labels\n",
    "    : return: Numpy array of one-hot encoded labels\n",
    "    \"\"\"\n",
    "    n_classes = 10\n",
    "    label_binarizer = LabelBinarizer()\n",
    "    label_binarizer.fit(range(n_classes))\n",
    "    return label_binarizer.transform(x)\n",
    "\n",
    "\n",
    "\"\"\"\n",
    "DON'T MODIFY ANYTHING IN THIS CELL THAT IS BELOW THIS LINE\n",
    "\"\"\"\n",
    "tests.test_one_hot_encode(one_hot_encode)"
   ]
  },
  {
   "cell_type": "markdown",
   "metadata": {
    "deletable": true,
    "editable": true
   },
   "source": [
    "### Randomize Data\n",
    "As you saw from exploring the data above, the order of the samples are randomized.  It doesn't hurt to randomize it again, but you don't need to for this dataset."
   ]
  },
  {
   "cell_type": "markdown",
   "metadata": {
    "deletable": true,
    "editable": true
   },
   "source": [
    "## Preprocess all the data and save it\n",
    "Running the code cell below will preprocess all the CIFAR-10 data and save it to file. The code below also uses 10% of the training data for validation."
   ]
  },
  {
   "cell_type": "code",
   "execution_count": 5,
   "metadata": {
    "collapsed": false,
    "deletable": true,
    "editable": true
   },
   "outputs": [],
   "source": [
    "\"\"\"\n",
    "DON'T MODIFY ANYTHING IN THIS CELL\n",
    "\"\"\"\n",
    "# Preprocess Training, Validation, and Testing Data\n",
    "helper.preprocess_and_save_data(cifar10_dataset_folder_path, normalize, one_hot_encode)"
   ]
  },
  {
   "cell_type": "markdown",
   "metadata": {
    "deletable": true,
    "editable": true
   },
   "source": [
    "# Check Point\n",
    "This is your first checkpoint.  If you ever decide to come back to this notebook or have to restart the notebook, you can start from here.  The preprocessed data has been saved to disk."
   ]
  },
  {
   "cell_type": "code",
   "execution_count": 6,
   "metadata": {
    "collapsed": true,
    "deletable": true,
    "editable": true
   },
   "outputs": [],
   "source": [
    "\"\"\"\n",
    "DON'T MODIFY ANYTHING IN THIS CELL\n",
    "\"\"\"\n",
    "import pickle\n",
    "import problem_unittests as tests\n",
    "import helper\n",
    "\n",
    "# Load the Preprocessed Validation data\n",
    "valid_features, valid_labels = pickle.load(open('preprocess_validation.p', mode='rb'))"
   ]
  },
  {
   "cell_type": "markdown",
   "metadata": {
    "deletable": true,
    "editable": true
   },
   "source": [
    "## Build the network\n",
    "For the neural network, you'll build each layer into a function.  Most of the code you've seen has been outside of functions. To test your code more thoroughly, we require that you put each layer in a function.  This allows us to give you better feedback and test for simple mistakes using our unittests before you submit your project.\n",
    "\n",
    ">**Note:** If you're finding it hard to dedicate enough time for this course each week, we've provided a small shortcut to this part of the project. In the next couple of problems, you'll have the option to use classes from the [TensorFlow Layers](https://www.tensorflow.org/api_docs/python/tf/layers) or [TensorFlow Layers (contrib)](https://www.tensorflow.org/api_guides/python/contrib.layers) packages to build each layer, except the layers you build in the \"Convolutional and Max Pooling Layer\" section.  TF Layers is similar to Keras's and TFLearn's abstraction to layers, so it's easy to pickup.\n",
    "\n",
    ">However, if you would like to get the most out of this course, try to solve all the problems _without_ using anything from the TF Layers packages. You **can** still use classes from other packages that happen to have the same name as ones you find in TF Layers! For example, instead of using the TF Layers version of the `conv2d` class, [tf.layers.conv2d](https://www.tensorflow.org/api_docs/python/tf/layers/conv2d), you would want to use the TF Neural Network version of `conv2d`, [tf.nn.conv2d](https://www.tensorflow.org/api_docs/python/tf/nn/conv2d). \n",
    "\n",
    "Let's begin!\n",
    "\n",
    "### Input\n",
    "The neural network needs to read the image data, one-hot encoded labels, and dropout keep probability. Implement the following functions\n",
    "* Implement `neural_net_image_input`\n",
    " * Return a [TF Placeholder](https://www.tensorflow.org/api_docs/python/tf/placeholder)\n",
    " * Set the shape using `image_shape` with batch size set to `None`.\n",
    " * Name the TensorFlow placeholder \"x\" using the TensorFlow `name` parameter in the [TF Placeholder](https://www.tensorflow.org/api_docs/python/tf/placeholder).\n",
    "* Implement `neural_net_label_input`\n",
    " * Return a [TF Placeholder](https://www.tensorflow.org/api_docs/python/tf/placeholder)\n",
    " * Set the shape using `n_classes` with batch size set to `None`.\n",
    " * Name the TensorFlow placeholder \"y\" using the TensorFlow `name` parameter in the [TF Placeholder](https://www.tensorflow.org/api_docs/python/tf/placeholder).\n",
    "* Implement `neural_net_keep_prob_input`\n",
    " * Return a [TF Placeholder](https://www.tensorflow.org/api_docs/python/tf/placeholder) for dropout keep probability.\n",
    " * Name the TensorFlow placeholder \"keep_prob\" using the TensorFlow `name` parameter in the [TF Placeholder](https://www.tensorflow.org/api_docs/python/tf/placeholder).\n",
    "\n",
    "These names will be used at the end of the project to load your saved model.\n",
    "\n",
    "Note: `None` for shapes in TensorFlow allow for a dynamic size."
   ]
  },
  {
   "cell_type": "code",
   "execution_count": 7,
   "metadata": {
    "collapsed": false,
    "deletable": true,
    "editable": true
   },
   "outputs": [
    {
     "name": "stdout",
     "output_type": "stream",
     "text": [
      "Image Input Tests Passed.\n",
      "Label Input Tests Passed.\n",
      "Keep Prob Tests Passed.\n"
     ]
    }
   ],
   "source": [
    "import tensorflow as tf\n",
    "\n",
    "def neural_net_image_input(image_shape):\n",
    "    \"\"\"\n",
    "    Return a Tensor for a bach of image input\n",
    "    : image_shape: Shape of the images\n",
    "    : return: Tensor for image input.\n",
    "    \"\"\"\n",
    "    return tf.placeholder(tf.float32, shape=(None, image_shape[0], image_shape[1], image_shape[2]), name=\"x\")\n",
    "\n",
    "\n",
    "def neural_net_label_input(n_classes):\n",
    "    \"\"\"\n",
    "    Return a Tensor for a batch of label input\n",
    "    : n_classes: Number of classes\n",
    "    : return: Tensor for label input.\n",
    "    \"\"\"\n",
    "    return tf.placeholder(tf.float32, shape=(None, n_classes), name=\"y\")\n",
    "\n",
    "\n",
    "def neural_net_keep_prob_input():\n",
    "    \"\"\"\n",
    "    Return a Tensor for keep probability\n",
    "    : return: Tensor for keep probability.\n",
    "    \"\"\"\n",
    "    return tf.placeholder(tf.float32, name=\"keep_prob\")\n",
    "\n",
    "\n",
    "\"\"\"\n",
    "DON'T MODIFY ANYTHING IN THIS CELL THAT IS BELOW THIS LINE\n",
    "\"\"\"\n",
    "tf.reset_default_graph()\n",
    "tests.test_nn_image_inputs(neural_net_image_input)\n",
    "tests.test_nn_label_inputs(neural_net_label_input)\n",
    "tests.test_nn_keep_prob_inputs(neural_net_keep_prob_input)"
   ]
  },
  {
   "cell_type": "markdown",
   "metadata": {
    "deletable": true,
    "editable": true
   },
   "source": [
    "### Convolution and Max Pooling Layer\n",
    "Convolution layers have a lot of success with images. For this code cell, you should implement the function `conv2d_maxpool` to apply convolution then max pooling:\n",
    "* Create the weight and bias using `conv_ksize`, `conv_num_outputs` and the shape of `x_tensor`.\n",
    "* Apply a convolution to `x_tensor` using weight and `conv_strides`.\n",
    " * We recommend you use same padding, but you're welcome to use any padding.\n",
    "* Add bias\n",
    "* Add a nonlinear activation to the convolution.\n",
    "* Apply Max Pooling using `pool_ksize` and `pool_strides`.\n",
    " * We recommend you use same padding, but you're welcome to use any padding.\n",
    "\n",
    "**Note:** You **can't** use [TensorFlow Layers](https://www.tensorflow.org/api_docs/python/tf/layers) or [TensorFlow Layers (contrib)](https://www.tensorflow.org/api_guides/python/contrib.layers) for **this** layer, but you can still use TensorFlow's [Neural Network](https://www.tensorflow.org/api_docs/python/tf/nn) package. You may still use the shortcut option for all the **other** layers."
   ]
  },
  {
   "cell_type": "code",
   "execution_count": 8,
   "metadata": {
    "collapsed": false,
    "deletable": true,
    "editable": true
   },
   "outputs": [
    {
     "name": "stdout",
     "output_type": "stream",
     "text": [
      "Tests Passed\n"
     ]
    }
   ],
   "source": [
    "def conv2d_maxpool(x_tensor, conv_num_outputs, conv_ksize, conv_strides, pool_ksize, pool_strides):\n",
    "    \"\"\"\n",
    "    Apply convolution then max pooling to x_tensor\n",
    "    :param x_tensor: TensorFlow Tensor\n",
    "    :param conv_num_outputs: Number of outputs for the convolutional layer\n",
    "    :param conv_ksize: kernal size 2-D Tuple for the convolutional layer\n",
    "    :param conv_strides: Stride 2-D Tuple for convolution\n",
    "    :param pool_ksize: kernal size 2-D Tuple for pool\n",
    "    :param pool_strides: Stride 2-D Tuple for pool\n",
    "    : return: A tensor that represents convolution and max pooling of x_tensor\n",
    "    \"\"\"\n",
    "    x_shape = x_tensor.get_shape().as_list()\n",
    "    weight = tf.Variable(tf.truncated_normal([conv_ksize[0], conv_ksize[1], x_shape[3], conv_num_outputs]))\n",
    "    bias = tf.Variable(tf.zeros(conv_num_outputs))\n",
    "    conv_layer = tf.nn.conv2d(x_tensor, weight, strides=[1, conv_strides[0], conv_strides[1], 1], padding='SAME')\n",
    "    conv_layer = tf.nn.bias_add(conv_layer, bias)\n",
    "    conv_layer = tf.nn.relu(conv_layer)\n",
    "    conv_layer = tf.nn.max_pool(\n",
    "        conv_layer, \n",
    "        ksize=[1, pool_ksize[0], pool_ksize[1], 1], \n",
    "        strides=[1, pool_strides[0], pool_strides[1], 1],\n",
    "        padding='SAME')\n",
    "    return conv_layer\n",
    "\n",
    "\n",
    "\"\"\"\n",
    "DON'T MODIFY ANYTHING IN THIS CELL THAT IS BELOW THIS LINE\n",
    "\"\"\"\n",
    "tests.test_con_pool(conv2d_maxpool)"
   ]
  },
  {
   "cell_type": "markdown",
   "metadata": {
    "deletable": true,
    "editable": true
   },
   "source": [
    "### Flatten Layer\n",
    "Implement the `flatten` function to change the dimension of `x_tensor` from a 4-D tensor to a 2-D tensor.  The output should be the shape (*Batch Size*, *Flattened Image Size*). Shortcut option: you can use classes from the [TensorFlow Layers](https://www.tensorflow.org/api_docs/python/tf/layers) or [TensorFlow Layers (contrib)](https://www.tensorflow.org/api_guides/python/contrib.layers) packages for this layer. For more of a challenge, only use other TensorFlow packages."
   ]
  },
  {
   "cell_type": "code",
   "execution_count": 9,
   "metadata": {
    "collapsed": false,
    "deletable": true,
    "editable": true
   },
   "outputs": [
    {
     "name": "stdout",
     "output_type": "stream",
     "text": [
      "Tests Passed\n"
     ]
    }
   ],
   "source": [
    "def flatten(x_tensor):\n",
    "    \"\"\"\n",
    "    Flatten x_tensor to (Batch Size, Flattened Image Size)\n",
    "    : x_tensor: A tensor of size (Batch Size, ...), where ... are the image dimensions.\n",
    "    : return: A tensor of size (Batch Size, Flattened Image Size).\n",
    "    \"\"\"    \n",
    "    return tf.contrib.layers.flatten(x_tensor)\n",
    "\n",
    "\n",
    "\"\"\"\n",
    "DON'T MODIFY ANYTHING IN THIS CELL THAT IS BELOW THIS LINE\n",
    "\"\"\"\n",
    "tests.test_flatten(flatten)"
   ]
  },
  {
   "cell_type": "markdown",
   "metadata": {
    "deletable": true,
    "editable": true
   },
   "source": [
    "### Fully-Connected Layer\n",
    "Implement the `fully_conn` function to apply a fully connected layer to `x_tensor` with the shape (*Batch Size*, *num_outputs*). Shortcut option: you can use classes from the [TensorFlow Layers](https://www.tensorflow.org/api_docs/python/tf/layers) or [TensorFlow Layers (contrib)](https://www.tensorflow.org/api_guides/python/contrib.layers) packages for this layer. For more of a challenge, only use other TensorFlow packages."
   ]
  },
  {
   "cell_type": "code",
   "execution_count": 10,
   "metadata": {
    "collapsed": false,
    "deletable": true,
    "editable": true
   },
   "outputs": [
    {
     "name": "stdout",
     "output_type": "stream",
     "text": [
      "Tests Passed\n"
     ]
    }
   ],
   "source": [
    "def fully_conn(x_tensor, num_outputs):\n",
    "    \"\"\"\n",
    "    Apply a fully connected layer to x_tensor using weight and bias\n",
    "    : x_tensor: A 2-D tensor where the first dimension is batch size.\n",
    "    : num_outputs: The number of output that the new tensor should be.\n",
    "    : return: A 2-D tensor where the second dimension is num_outputs.\n",
    "    \"\"\"\n",
    "    return tf.contrib.layers.fully_connected(x_tensor, num_outputs)\n",
    "\n",
    "\n",
    "\"\"\"\n",
    "DON'T MODIFY ANYTHING IN THIS CELL THAT IS BELOW THIS LINE\n",
    "\"\"\"\n",
    "tests.test_fully_conn(fully_conn)"
   ]
  },
  {
   "cell_type": "markdown",
   "metadata": {
    "deletable": true,
    "editable": true
   },
   "source": [
    "### Output Layer\n",
    "Implement the `output` function to apply a fully connected layer to `x_tensor` with the shape (*Batch Size*, *num_outputs*). Shortcut option: you can use classes from the [TensorFlow Layers](https://www.tensorflow.org/api_docs/python/tf/layers) or [TensorFlow Layers (contrib)](https://www.tensorflow.org/api_guides/python/contrib.layers) packages for this layer. For more of a challenge, only use other TensorFlow packages.\n",
    "\n",
    "**Note:** Activation, softmax, or cross entropy should **not** be applied to this."
   ]
  },
  {
   "cell_type": "code",
   "execution_count": 11,
   "metadata": {
    "collapsed": false,
    "deletable": true,
    "editable": true
   },
   "outputs": [
    {
     "name": "stdout",
     "output_type": "stream",
     "text": [
      "Tests Passed\n"
     ]
    }
   ],
   "source": [
    "def output(x_tensor, num_outputs):\n",
    "    \"\"\"\n",
    "    Apply a output layer to x_tensor using weight and bias\n",
    "    : x_tensor: A 2-D tensor where the first dimension is batch size.\n",
    "    : num_outputs: The number of output that the new tensor should be.\n",
    "    : return: A 2-D tensor where the second dimension is num_outputs.\n",
    "    \"\"\"\n",
    "    return tf.contrib.layers.fully_connected(x_tensor, num_outputs)\n",
    "\n",
    "\n",
    "\"\"\"\n",
    "DON'T MODIFY ANYTHING IN THIS CELL THAT IS BELOW THIS LINE\n",
    "\"\"\"\n",
    "tests.test_output(output)"
   ]
  },
  {
   "cell_type": "markdown",
   "metadata": {
    "deletable": true,
    "editable": true
   },
   "source": [
    "### Create Convolutional Model\n",
    "Implement the function `conv_net` to create a convolutional neural network model. The function takes in a batch of images, `x`, and outputs logits.  Use the layers you created above to create this model:\n",
    "\n",
    "* Apply 1, 2, or 3 Convolution and Max Pool layers\n",
    "* Apply a Flatten Layer\n",
    "* Apply 1, 2, or 3 Fully Connected Layers\n",
    "* Apply an Output Layer\n",
    "* Return the output\n",
    "* Apply [TensorFlow's Dropout](https://www.tensorflow.org/api_docs/python/tf/nn/dropout) to one or more layers in the model using `keep_prob`. "
   ]
  },
  {
   "cell_type": "code",
   "execution_count": 49,
   "metadata": {
    "collapsed": false,
    "deletable": true,
    "editable": true
   },
   "outputs": [
    {
     "name": "stdout",
     "output_type": "stream",
     "text": [
      "Neural Network Built!\n"
     ]
    }
   ],
   "source": [
    "def conv_net(x, keep_prob):\n",
    "    \"\"\"\n",
    "    Create a convolutional neural network model\n",
    "    : x: Placeholder tensor that holds image data.\n",
    "    : keep_prob: Placeholder tensor that hold dropout keep probability.\n",
    "    : return: Tensor that represents logits\n",
    "    \"\"\"\n",
    "    # TODO: Apply 1, 2, or 3 Convolution and Max Pool layers\n",
    "    #    Play around with different number of outputs, kernel size and stride\n",
    "    # Function Definition from Above:\n",
    "    #    conv2d_maxpool(x_tensor, conv_num_outputs, conv_ksize, conv_strides, pool_ksize, pool_strides)\n",
    "    cmp_layer1 = conv2d_maxpool(x, 10, (2, 2), (2, 2), (2, 2), (2, 2))\n",
    "    \n",
    "\n",
    "    # TODO: Apply a Flatten Layer\n",
    "    # Function Definition from Above:\n",
    "    fl_layer = flatten(cmp_layer1)\n",
    "    \n",
    "\n",
    "    # TODO: Apply 1, 2, or 3 Fully Connected Layers\n",
    "    #    Play around with different number of outputs\n",
    "    # Function Definition from Above:\n",
    "    fc_layer1 = fully_conn(fl_layer, 200)\n",
    "    fc_layer2 = fully_conn(fc_layer1, 50)\n",
    "    d_layer2 = tf.nn.dropout(fc_layer2, keep_prob)\n",
    "    fc_layer3 = fully_conn(d_layer2, 10)\n",
    "    \n",
    "    \n",
    "    # TODO: Apply an Output Layer\n",
    "    #    Set this to the number of classes\n",
    "    # Function Definition from Above:\n",
    "    o_layer = output(fc_layer3, 10)\n",
    "    \n",
    "    \n",
    "    # TODO: return output\n",
    "    return o_layer\n",
    "\n",
    "\n",
    "\"\"\"\n",
    "DON'T MODIFY ANYTHING IN THIS CELL THAT IS BELOW THIS LINE\n",
    "\"\"\"\n",
    "\n",
    "##############################\n",
    "## Build the Neural Network ##\n",
    "##############################\n",
    "\n",
    "# Remove previous weights, bias, inputs, etc..\n",
    "tf.reset_default_graph()\n",
    "\n",
    "# Inputs\n",
    "x = neural_net_image_input((32, 32, 3))\n",
    "y = neural_net_label_input(10)\n",
    "keep_prob = neural_net_keep_prob_input()\n",
    "\n",
    "# Model\n",
    "logits = conv_net(x, keep_prob)\n",
    "\n",
    "# Name logits Tensor, so that is can be loaded from disk after training\n",
    "logits = tf.identity(logits, name='logits')\n",
    "\n",
    "# Loss and Optimizer\n",
    "cost = tf.reduce_mean(tf.nn.softmax_cross_entropy_with_logits(logits=logits, labels=y))\n",
    "optimizer = tf.train.AdamOptimizer().minimize(cost)\n",
    "\n",
    "# Accuracy\n",
    "correct_pred = tf.equal(tf.argmax(logits, 1), tf.argmax(y, 1))\n",
    "accuracy = tf.reduce_mean(tf.cast(correct_pred, tf.float32), name='accuracy')\n",
    "\n",
    "tests.test_conv_net(conv_net)"
   ]
  },
  {
   "cell_type": "markdown",
   "metadata": {
    "deletable": true,
    "editable": true
   },
   "source": [
    "## Train the Neural Network\n",
    "### Single Optimization\n",
    "Implement the function `train_neural_network` to do a single optimization.  The optimization should use `optimizer` to optimize in `session` with a `feed_dict` of the following:\n",
    "* `x` for image input\n",
    "* `y` for labels\n",
    "* `keep_prob` for keep probability for dropout\n",
    "\n",
    "This function will be called for each batch, so `tf.global_variables_initializer()` has already been called.\n",
    "\n",
    "Note: Nothing needs to be returned. This function is only optimizing the neural network."
   ]
  },
  {
   "cell_type": "code",
   "execution_count": 50,
   "metadata": {
    "collapsed": false,
    "deletable": true,
    "editable": true
   },
   "outputs": [
    {
     "name": "stdout",
     "output_type": "stream",
     "text": [
      "Tests Passed\n"
     ]
    }
   ],
   "source": [
    "def train_neural_network(session, optimizer, keep_probability, feature_batch, label_batch):\n",
    "    \"\"\"\n",
    "    Optimize the session on a batch of images and labels\n",
    "    : session: Current TensorFlow session\n",
    "    : optimizer: TensorFlow optimizer function\n",
    "    : keep_probability: keep probability\n",
    "    : feature_batch: Batch of Numpy image data\n",
    "    : label_batch: Batch of Numpy label data\n",
    "    \"\"\"\n",
    "    session.run(optimizer, feed_dict={x: feature_batch, y: label_batch, keep_prob: keep_probability})\n",
    "\n",
    "\n",
    "\"\"\"\n",
    "DON'T MODIFY ANYTHING IN THIS CELL THAT IS BELOW THIS LINE\n",
    "\"\"\"\n",
    "tests.test_train_nn(train_neural_network)"
   ]
  },
  {
   "cell_type": "markdown",
   "metadata": {
    "deletable": true,
    "editable": true
   },
   "source": [
    "### Show Stats\n",
    "Implement the function `print_stats` to print loss and validation accuracy.  Use the global variables `valid_features` and `valid_labels` to calculate validation accuracy.  Use a keep probability of `1.0` to calculate the loss and validation accuracy."
   ]
  },
  {
   "cell_type": "code",
   "execution_count": 51,
   "metadata": {
    "collapsed": false,
    "deletable": true,
    "editable": true
   },
   "outputs": [],
   "source": [
    "def print_stats(session, feature_batch, label_batch, cost, accuracy):\n",
    "    \"\"\"\n",
    "    Print information about loss and validation accuracy\n",
    "    : session: Current TensorFlow session\n",
    "    : feature_batch: Batch of Numpy image data\n",
    "    : label_batch: Batch of Numpy label data\n",
    "    : cost: TensorFlow cost function\n",
    "    : accuracy: TensorFlow accuracy function\n",
    "    \"\"\"\n",
    "    loss = session.run(cost, feed_dict={x: feature_batch, y: label_batch, keep_prob: 1.0})\n",
    "    validation_accuracy = session.run(accuracy, feed_dict={x: valid_features, y: valid_labels,\n",
    "        keep_prob: 1.0})\n",
    "    \n",
    "    print('Loss at {} and validation accuracy at {}'.format(loss, validation_accuracy))  "
   ]
  },
  {
   "cell_type": "markdown",
   "metadata": {
    "deletable": true,
    "editable": true
   },
   "source": [
    "### Hyperparameters\n",
    "Tune the following parameters:\n",
    "* Set `epochs` to the number of iterations until the network stops learning or start overfitting\n",
    "* Set `batch_size` to the highest number that your machine has memory for.  Most people set them to common sizes of memory:\n",
    " * 64\n",
    " * 128\n",
    " * 256\n",
    " * ...\n",
    "* Set `keep_probability` to the probability of keeping a node using dropout"
   ]
  },
  {
   "cell_type": "code",
   "execution_count": 54,
   "metadata": {
    "collapsed": true,
    "deletable": true,
    "editable": true
   },
   "outputs": [],
   "source": [
    "# TODO: Tune Parameters\n",
    "epochs = 50\n",
    "batch_size = 256\n",
    "keep_probability = 0.5"
   ]
  },
  {
   "cell_type": "markdown",
   "metadata": {
    "deletable": true,
    "editable": true
   },
   "source": [
    "### Train on a Single CIFAR-10 Batch\n",
    "Instead of training the neural network on all the CIFAR-10 batches of data, let's use a single batch. This should save time while you iterate on the model to get a better accuracy.  Once the final validation accuracy is 50% or greater, run the model on all the data in the next section."
   ]
  },
  {
   "cell_type": "code",
   "execution_count": 55,
   "metadata": {
    "collapsed": false,
    "deletable": true,
    "editable": true
   },
   "outputs": [
    {
     "name": "stdout",
     "output_type": "stream",
     "text": [
      "Checking the Training on a Single Batch...\n",
      "Epoch  1, CIFAR-10 Batch 1:  Loss at 2.2585694789886475 and validation accuracy at 0.16539998352527618\n",
      "Epoch  2, CIFAR-10 Batch 1:  Loss at 2.180255174636841 and validation accuracy at 0.19219999015331268\n",
      "Epoch  3, CIFAR-10 Batch 1:  Loss at 2.0945844650268555 and validation accuracy at 0.2639999985694885\n",
      "Epoch  4, CIFAR-10 Batch 1:  Loss at 2.0609169006347656 and validation accuracy at 0.2946000099182129\n",
      "Epoch  5, CIFAR-10 Batch 1:  Loss at 2.057115316390991 and validation accuracy at 0.30159997940063477\n",
      "Epoch  6, CIFAR-10 Batch 1:  Loss at 2.0133728981018066 and validation accuracy at 0.32839998602867126\n",
      "Epoch  7, CIFAR-10 Batch 1:  Loss at 1.9093017578125 and validation accuracy at 0.3423999845981598\n",
      "Epoch  8, CIFAR-10 Batch 1:  Loss at 1.882235050201416 and validation accuracy at 0.3659999966621399\n",
      "Epoch  9, CIFAR-10 Batch 1:  Loss at 1.822072148323059 and validation accuracy at 0.3837999701499939\n",
      "Epoch 10, CIFAR-10 Batch 1:  Loss at 1.752195119857788 and validation accuracy at 0.39719995856285095\n",
      "Epoch 11, CIFAR-10 Batch 1:  Loss at 1.711340069770813 and validation accuracy at 0.3999999463558197\n",
      "Epoch 12, CIFAR-10 Batch 1:  Loss at 1.6743236780166626 and validation accuracy at 0.40379995107650757\n",
      "Epoch 13, CIFAR-10 Batch 1:  Loss at 1.6028811931610107 and validation accuracy at 0.4121999740600586\n",
      "Epoch 14, CIFAR-10 Batch 1:  Loss at 1.5265676975250244 and validation accuracy at 0.42800000309944153\n",
      "Epoch 15, CIFAR-10 Batch 1:  Loss at 1.425355315208435 and validation accuracy at 0.42159998416900635\n",
      "Epoch 16, CIFAR-10 Batch 1:  Loss at 1.3914018869400024 and validation accuracy at 0.43959999084472656\n",
      "Epoch 17, CIFAR-10 Batch 1:  Loss at 1.3263293504714966 and validation accuracy at 0.43939995765686035\n",
      "Epoch 18, CIFAR-10 Batch 1:  Loss at 1.297640085220337 and validation accuracy at 0.45080000162124634\n",
      "Epoch 19, CIFAR-10 Batch 1:  Loss at 1.2287240028381348 and validation accuracy at 0.44940000772476196\n",
      "Epoch 20, CIFAR-10 Batch 1:  Loss at 1.183091402053833 and validation accuracy at 0.46080002188682556\n",
      "Epoch 21, CIFAR-10 Batch 1:  Loss at 1.1459887027740479 and validation accuracy at 0.46359995007514954\n",
      "Epoch 22, CIFAR-10 Batch 1:  Loss at 1.0527594089508057 and validation accuracy at 0.46959999203681946\n",
      "Epoch 23, CIFAR-10 Batch 1:  Loss at 1.0221073627471924 and validation accuracy at 0.4819999933242798\n",
      "Epoch 24, CIFAR-10 Batch 1:  Loss at 0.976062536239624 and validation accuracy at 0.4821999669075012\n",
      "Epoch 25, CIFAR-10 Batch 1:  Loss at 0.9176914691925049 and validation accuracy at 0.48499995470046997\n",
      "Epoch 26, CIFAR-10 Batch 1:  Loss at 0.8643455505371094 and validation accuracy at 0.4857999086380005\n",
      "Epoch 27, CIFAR-10 Batch 1:  Loss at 0.838753342628479 and validation accuracy at 0.48799994587898254\n",
      "Epoch 28, CIFAR-10 Batch 1:  Loss at 0.8015215992927551 and validation accuracy at 0.49039995670318604\n",
      "Epoch 29, CIFAR-10 Batch 1:  Loss at 0.7575589418411255 and validation accuracy at 0.4957999289035797\n",
      "Epoch 30, CIFAR-10 Batch 1:  Loss at 0.7179823517799377 and validation accuracy at 0.5025999546051025\n",
      "Epoch 31, CIFAR-10 Batch 1:  Loss at 0.6835455298423767 and validation accuracy at 0.49939996004104614\n",
      "Epoch 32, CIFAR-10 Batch 1:  Loss at 0.665580153465271 and validation accuracy at 0.507599949836731\n",
      "Epoch 33, CIFAR-10 Batch 1:  Loss at 0.6542328596115112 and validation accuracy at 0.49939996004104614\n",
      "Epoch 34, CIFAR-10 Batch 1:  Loss at 0.6247209906578064 and validation accuracy at 0.50819993019104\n",
      "Epoch 35, CIFAR-10 Batch 1:  Loss at 0.5997413992881775 and validation accuracy at 0.5005999803543091\n",
      "Epoch 36, CIFAR-10 Batch 1:  Loss at 0.5693825483322144 and validation accuracy at 0.5089999437332153\n",
      "Epoch 37, CIFAR-10 Batch 1:  Loss at 0.5327885746955872 and validation accuracy at 0.4973999261856079\n",
      "Epoch 38, CIFAR-10 Batch 1:  Loss at 0.558480978012085 and validation accuracy at 0.4975999593734741\n",
      "Epoch 39, CIFAR-10 Batch 1:  Loss at 0.5224227905273438 and validation accuracy at 0.5121999382972717\n",
      "Epoch 40, CIFAR-10 Batch 1:  Loss at 0.5135998725891113 and validation accuracy at 0.5090000033378601\n",
      "Epoch 41, CIFAR-10 Batch 1:  Loss at 0.4994046092033386 and validation accuracy at 0.506399929523468\n",
      "Epoch 42, CIFAR-10 Batch 1:  Loss at 0.4938783645629883 and validation accuracy at 0.48879992961883545\n",
      "Epoch 43, CIFAR-10 Batch 1:  Loss at 0.459013968706131 and validation accuracy at 0.5023999214172363\n",
      "Epoch 44, CIFAR-10 Batch 1:  Loss at 0.4611143469810486 and validation accuracy at 0.4880000054836273\n",
      "Epoch 45, CIFAR-10 Batch 1:  Loss at 0.4566552937030792 and validation accuracy at 0.4803999960422516\n",
      "Epoch 46, CIFAR-10 Batch 1:  Loss at 0.44432368874549866 and validation accuracy at 0.4795999526977539\n",
      "Epoch 47, CIFAR-10 Batch 1:  Loss at 0.4457501769065857 and validation accuracy at 0.5013999938964844\n",
      "Epoch 48, CIFAR-10 Batch 1:  Loss at 0.4141944348812103 and validation accuracy at 0.4851999580860138\n",
      "Epoch 49, CIFAR-10 Batch 1:  Loss at 0.4140560030937195 and validation accuracy at 0.498399943113327\n",
      "Epoch 50, CIFAR-10 Batch 1:  Loss at 0.39549946784973145 and validation accuracy at 0.5015999674797058\n"
     ]
    }
   ],
   "source": [
    "\"\"\"\n",
    "DON'T MODIFY ANYTHING IN THIS CELL\n",
    "\"\"\"\n",
    "print('Checking the Training on a Single Batch...')\n",
    "with tf.Session() as sess:\n",
    "    # Initializing the variables\n",
    "    sess.run(tf.global_variables_initializer())\n",
    "    \n",
    "    # Training cycle\n",
    "    for epoch in range(epochs):\n",
    "        batch_i = 1\n",
    "        for batch_features, batch_labels in helper.load_preprocess_training_batch(batch_i, batch_size):\n",
    "            train_neural_network(sess, optimizer, keep_probability, batch_features, batch_labels)\n",
    "        print('Epoch {:>2}, CIFAR-10 Batch {}:  '.format(epoch + 1, batch_i), end='')\n",
    "        print_stats(sess, batch_features, batch_labels, cost, accuracy)"
   ]
  },
  {
   "cell_type": "markdown",
   "metadata": {
    "deletable": true,
    "editable": true
   },
   "source": [
    "### Fully Train the Model\n",
    "Now that you got a good accuracy with a single CIFAR-10 batch, try it with all five batches."
   ]
  },
  {
   "cell_type": "code",
   "execution_count": 56,
   "metadata": {
    "collapsed": false,
    "deletable": true,
    "editable": true
   },
   "outputs": [
    {
     "name": "stdout",
     "output_type": "stream",
     "text": [
      "Training...\n",
      "Epoch  1, CIFAR-10 Batch 1:  Loss at 2.2845754623413086 and validation accuracy at 0.12799999117851257\n",
      "Epoch  1, CIFAR-10 Batch 2:  Loss at 2.256659984588623 and validation accuracy at 0.18519997596740723\n",
      "Epoch  1, CIFAR-10 Batch 3:  Loss at 2.1578688621520996 and validation accuracy at 0.1923999935388565\n",
      "Epoch  1, CIFAR-10 Batch 4:  Loss at 2.1831471920013428 and validation accuracy at 0.188199982047081\n",
      "Epoch  1, CIFAR-10 Batch 5:  Loss at 2.142124652862549 and validation accuracy at 0.25380000472068787\n",
      "Epoch  2, CIFAR-10 Batch 1:  Loss at 2.181950569152832 and validation accuracy at 0.259799987077713\n",
      "Epoch  2, CIFAR-10 Batch 2:  Loss at 2.021458148956299 and validation accuracy at 0.27740001678466797\n",
      "Epoch  2, CIFAR-10 Batch 3:  Loss at 1.7728614807128906 and validation accuracy at 0.2892000079154968\n",
      "Epoch  2, CIFAR-10 Batch 4:  Loss at 1.861885666847229 and validation accuracy at 0.31139999628067017\n",
      "Epoch  2, CIFAR-10 Batch 5:  Loss at 1.7944622039794922 and validation accuracy at 0.33219999074935913\n",
      "Epoch  3, CIFAR-10 Batch 1:  Loss at 2.097808361053467 and validation accuracy at 0.31699997186660767\n",
      "Epoch  3, CIFAR-10 Batch 2:  Loss at 1.801894187927246 and validation accuracy at 0.3567999601364136\n",
      "Epoch  3, CIFAR-10 Batch 3:  Loss at 1.5275858640670776 and validation accuracy at 0.3564000129699707\n",
      "Epoch  3, CIFAR-10 Batch 4:  Loss at 1.6676499843597412 and validation accuracy at 0.3749999701976776\n",
      "Epoch  3, CIFAR-10 Batch 5:  Loss at 1.6885836124420166 and validation accuracy at 0.3747999966144562\n",
      "Epoch  4, CIFAR-10 Batch 1:  Loss at 1.9213941097259521 and validation accuracy at 0.3901999890804291\n",
      "Epoch  4, CIFAR-10 Batch 2:  Loss at 1.6810916662216187 and validation accuracy at 0.3911999762058258\n",
      "Epoch  4, CIFAR-10 Batch 3:  Loss at 1.4238719940185547 and validation accuracy at 0.39299994707107544\n",
      "Epoch  4, CIFAR-10 Batch 4:  Loss at 1.5637507438659668 and validation accuracy at 0.3861999809741974\n",
      "Epoch  4, CIFAR-10 Batch 5:  Loss at 1.5978201627731323 and validation accuracy at 0.4079999625682831\n",
      "Epoch  5, CIFAR-10 Batch 1:  Loss at 1.8529703617095947 and validation accuracy at 0.4267999827861786\n",
      "Epoch  5, CIFAR-10 Batch 2:  Loss at 1.567225694656372 and validation accuracy at 0.41819995641708374\n",
      "Epoch  5, CIFAR-10 Batch 3:  Loss at 1.33454167842865 and validation accuracy at 0.4307999610900879\n",
      "Epoch  5, CIFAR-10 Batch 4:  Loss at 1.5064527988433838 and validation accuracy at 0.4367999732494354\n",
      "Epoch  5, CIFAR-10 Batch 5:  Loss at 1.5323680639266968 and validation accuracy at 0.4421999752521515\n",
      "Epoch  6, CIFAR-10 Batch 1:  Loss at 1.714695692062378 and validation accuracy at 0.44679996371269226\n",
      "Epoch  6, CIFAR-10 Batch 2:  Loss at 1.4522688388824463 and validation accuracy at 0.449599951505661\n",
      "Epoch  6, CIFAR-10 Batch 3:  Loss at 1.2428821325302124 and validation accuracy at 0.4513999819755554\n",
      "Epoch  6, CIFAR-10 Batch 4:  Loss at 1.425793170928955 and validation accuracy at 0.4609999656677246\n",
      "Epoch  6, CIFAR-10 Batch 5:  Loss at 1.4498655796051025 and validation accuracy at 0.464199960231781\n",
      "Epoch  7, CIFAR-10 Batch 1:  Loss at 1.607129454612732 and validation accuracy at 0.47259998321533203\n",
      "Epoch  7, CIFAR-10 Batch 2:  Loss at 1.3938103914260864 and validation accuracy at 0.46559998393058777\n",
      "Epoch  7, CIFAR-10 Batch 3:  Loss at 1.1423039436340332 and validation accuracy at 0.4615999460220337\n",
      "Epoch  7, CIFAR-10 Batch 4:  Loss at 1.3633081912994385 and validation accuracy at 0.4771999418735504\n",
      "Epoch  7, CIFAR-10 Batch 5:  Loss at 1.4477792978286743 and validation accuracy at 0.4745999574661255\n",
      "Epoch  8, CIFAR-10 Batch 1:  Loss at 1.5387988090515137 and validation accuracy at 0.4837999939918518\n",
      "Epoch  8, CIFAR-10 Batch 2:  Loss at 1.2975929975509644 and validation accuracy at 0.48399996757507324\n",
      "Epoch  8, CIFAR-10 Batch 3:  Loss at 1.04325532913208 and validation accuracy at 0.4817999303340912\n",
      "Epoch  8, CIFAR-10 Batch 4:  Loss at 1.2892957925796509 and validation accuracy at 0.4811999201774597\n",
      "Epoch  8, CIFAR-10 Batch 5:  Loss at 1.3490151166915894 and validation accuracy at 0.49479997158050537\n",
      "Epoch  9, CIFAR-10 Batch 1:  Loss at 1.4465394020080566 and validation accuracy at 0.49959996342658997\n",
      "Epoch  9, CIFAR-10 Batch 2:  Loss at 1.2518454790115356 and validation accuracy at 0.4931999444961548\n",
      "Epoch  9, CIFAR-10 Batch 3:  Loss at 0.9970744848251343 and validation accuracy at 0.48779991269111633\n",
      "Epoch  9, CIFAR-10 Batch 4:  Loss at 1.2861111164093018 and validation accuracy at 0.5015999674797058\n",
      "Epoch  9, CIFAR-10 Batch 5:  Loss at 1.2553013563156128 and validation accuracy at 0.5007999539375305\n",
      "Epoch 10, CIFAR-10 Batch 1:  Loss at 1.375967025756836 and validation accuracy at 0.5073999166488647\n",
      "Epoch 10, CIFAR-10 Batch 2:  Loss at 1.1658875942230225 and validation accuracy at 0.5065999627113342\n",
      "Epoch 10, CIFAR-10 Batch 3:  Loss at 0.9301846027374268 and validation accuracy at 0.5115999579429626\n",
      "Epoch 10, CIFAR-10 Batch 4:  Loss at 1.192238688468933 and validation accuracy at 0.5153999328613281\n",
      "Epoch 10, CIFAR-10 Batch 5:  Loss at 1.2142589092254639 and validation accuracy at 0.509399950504303\n",
      "Epoch 11, CIFAR-10 Batch 1:  Loss at 1.3578687906265259 and validation accuracy at 0.5125999450683594\n",
      "Epoch 11, CIFAR-10 Batch 2:  Loss at 1.1071499586105347 and validation accuracy at 0.5197999477386475\n",
      "Epoch 11, CIFAR-10 Batch 3:  Loss at 0.8738378286361694 and validation accuracy at 0.5121999382972717\n",
      "Epoch 11, CIFAR-10 Batch 4:  Loss at 1.130524754524231 and validation accuracy at 0.5211998820304871\n",
      "Epoch 11, CIFAR-10 Batch 5:  Loss at 1.146897554397583 and validation accuracy at 0.5255999565124512\n",
      "Epoch 12, CIFAR-10 Batch 1:  Loss at 1.2412643432617188 and validation accuracy at 0.5249999165534973\n",
      "Epoch 12, CIFAR-10 Batch 2:  Loss at 1.0546774864196777 and validation accuracy at 0.5123999118804932\n",
      "Epoch 12, CIFAR-10 Batch 3:  Loss at 0.8409137725830078 and validation accuracy at 0.5243999361991882\n",
      "Epoch 12, CIFAR-10 Batch 4:  Loss at 1.0833927392959595 and validation accuracy at 0.5245999097824097\n",
      "Epoch 12, CIFAR-10 Batch 5:  Loss at 1.0991947650909424 and validation accuracy at 0.5239999294281006\n",
      "Epoch 13, CIFAR-10 Batch 1:  Loss at 1.1429016590118408 and validation accuracy at 0.525999903678894\n",
      "Epoch 13, CIFAR-10 Batch 2:  Loss at 0.9836780428886414 and validation accuracy at 0.5199999809265137\n",
      "Epoch 13, CIFAR-10 Batch 3:  Loss at 0.8027944564819336 and validation accuracy at 0.5245999097824097\n",
      "Epoch 13, CIFAR-10 Batch 4:  Loss at 1.0377657413482666 and validation accuracy at 0.5333999395370483\n",
      "Epoch 13, CIFAR-10 Batch 5:  Loss at 1.0111045837402344 and validation accuracy at 0.5273998975753784\n",
      "Epoch 14, CIFAR-10 Batch 1:  Loss at 1.11711847782135 and validation accuracy at 0.5261999368667603\n",
      "Epoch 14, CIFAR-10 Batch 2:  Loss at 0.9261365532875061 and validation accuracy at 0.5299999117851257\n",
      "Epoch 14, CIFAR-10 Batch 3:  Loss at 0.773724377155304 and validation accuracy at 0.5295999646186829\n",
      "Epoch 14, CIFAR-10 Batch 4:  Loss at 1.0190500020980835 and validation accuracy at 0.5335999131202698\n",
      "Epoch 14, CIFAR-10 Batch 5:  Loss at 0.9614500999450684 and validation accuracy at 0.5333999395370483\n",
      "Epoch 15, CIFAR-10 Batch 1:  Loss at 1.0640952587127686 and validation accuracy at 0.5225999355316162\n",
      "Epoch 15, CIFAR-10 Batch 2:  Loss at 0.855776309967041 and validation accuracy at 0.5371999740600586\n",
      "Epoch 15, CIFAR-10 Batch 3:  Loss at 0.7063053846359253 and validation accuracy at 0.5345999598503113\n",
      "Epoch 15, CIFAR-10 Batch 4:  Loss at 0.9656074047088623 and validation accuracy at 0.5435999631881714\n",
      "Epoch 15, CIFAR-10 Batch 5:  Loss at 0.8989549875259399 and validation accuracy at 0.5305999517440796\n",
      "Epoch 16, CIFAR-10 Batch 1:  Loss at 1.0221595764160156 and validation accuracy at 0.540199875831604\n",
      "Epoch 16, CIFAR-10 Batch 2:  Loss at 0.8222620487213135 and validation accuracy at 0.5327999591827393\n",
      "Epoch 16, CIFAR-10 Batch 3:  Loss at 0.6718227863311768 and validation accuracy at 0.5397999286651611\n",
      "Epoch 16, CIFAR-10 Batch 4:  Loss at 0.8951166868209839 and validation accuracy at 0.5405999422073364\n",
      "Epoch 16, CIFAR-10 Batch 5:  Loss at 0.8598041534423828 and validation accuracy at 0.5419999957084656\n",
      "Epoch 17, CIFAR-10 Batch 1:  Loss at 0.9905586242675781 and validation accuracy at 0.5381999611854553\n",
      "Epoch 17, CIFAR-10 Batch 2:  Loss at 0.7351230978965759 and validation accuracy at 0.5419999361038208\n",
      "Epoch 17, CIFAR-10 Batch 3:  Loss at 0.6374502182006836 and validation accuracy at 0.5429999828338623\n",
      "Epoch 17, CIFAR-10 Batch 4:  Loss at 0.8897398114204407 and validation accuracy at 0.5457999110221863\n",
      "Epoch 17, CIFAR-10 Batch 5:  Loss at 0.8486284017562866 and validation accuracy at 0.5477999448776245\n",
      "Epoch 18, CIFAR-10 Batch 1:  Loss at 0.899384617805481 and validation accuracy at 0.5417999029159546\n",
      "Epoch 18, CIFAR-10 Batch 2:  Loss at 0.6877965331077576 and validation accuracy at 0.5415999293327332\n",
      "Epoch 18, CIFAR-10 Batch 3:  Loss at 0.6162142157554626 and validation accuracy at 0.5461999773979187\n",
      "Epoch 18, CIFAR-10 Batch 4:  Loss at 0.8388829231262207 and validation accuracy at 0.5493999719619751\n",
      "Epoch 18, CIFAR-10 Batch 5:  Loss at 0.7793062329292297 and validation accuracy at 0.5443999171257019\n",
      "Epoch 19, CIFAR-10 Batch 1:  Loss at 0.8658789396286011 and validation accuracy at 0.5495998859405518\n",
      "Epoch 19, CIFAR-10 Batch 2:  Loss at 0.6843528747558594 and validation accuracy at 0.5385999083518982\n",
      "Epoch 19, CIFAR-10 Batch 3:  Loss at 0.5598125457763672 and validation accuracy at 0.5511999726295471\n",
      "Epoch 19, CIFAR-10 Batch 4:  Loss at 0.7938127517700195 and validation accuracy at 0.5507999062538147\n",
      "Epoch 19, CIFAR-10 Batch 5:  Loss at 0.7351622581481934 and validation accuracy at 0.5489999651908875\n",
      "Epoch 20, CIFAR-10 Batch 1:  Loss at 0.8765145540237427 and validation accuracy at 0.5485999584197998\n",
      "Epoch 20, CIFAR-10 Batch 2:  Loss at 0.6079968810081482 and validation accuracy at 0.5413999557495117\n",
      "Epoch 20, CIFAR-10 Batch 3:  Loss at 0.5428930521011353 and validation accuracy at 0.5523998737335205\n",
      "Epoch 20, CIFAR-10 Batch 4:  Loss at 0.7340492010116577 and validation accuracy at 0.5493999719619751\n",
      "Epoch 20, CIFAR-10 Batch 5:  Loss at 0.7194095253944397 and validation accuracy at 0.5445999503135681\n",
      "Epoch 21, CIFAR-10 Batch 1:  Loss at 0.8146660923957825 and validation accuracy at 0.546999990940094\n",
      "Epoch 21, CIFAR-10 Batch 2:  Loss at 0.5871111750602722 and validation accuracy at 0.5485999584197998\n",
      "Epoch 21, CIFAR-10 Batch 3:  Loss at 0.4993172883987427 and validation accuracy at 0.5495999455451965\n",
      "Epoch 21, CIFAR-10 Batch 4:  Loss at 0.7045845985412598 and validation accuracy at 0.5527999401092529\n",
      "Epoch 21, CIFAR-10 Batch 5:  Loss at 0.6678582429885864 and validation accuracy at 0.5527999401092529\n",
      "Epoch 22, CIFAR-10 Batch 1:  Loss at 0.7896752953529358 and validation accuracy at 0.555199921131134\n",
      "Epoch 22, CIFAR-10 Batch 2:  Loss at 0.5683865547180176 and validation accuracy at 0.5491999387741089\n",
      "Epoch 22, CIFAR-10 Batch 3:  Loss at 0.5349794626235962 and validation accuracy at 0.5525999069213867\n",
      "Epoch 22, CIFAR-10 Batch 4:  Loss at 0.6694439053535461 and validation accuracy at 0.5555999875068665\n",
      "Epoch 22, CIFAR-10 Batch 5:  Loss at 0.6439839601516724 and validation accuracy at 0.5511999130249023\n",
      "Epoch 23, CIFAR-10 Batch 1:  Loss at 0.7761325836181641 and validation accuracy at 0.5487998723983765\n",
      "Epoch 23, CIFAR-10 Batch 2:  Loss at 0.5269910097122192 and validation accuracy at 0.5407999157905579\n",
      "Epoch 23, CIFAR-10 Batch 3:  Loss at 0.49179279804229736 and validation accuracy at 0.5557999610900879\n",
      "Epoch 23, CIFAR-10 Batch 4:  Loss at 0.6264359951019287 and validation accuracy at 0.5531999468803406\n",
      "Epoch 23, CIFAR-10 Batch 5:  Loss at 0.6122461557388306 and validation accuracy at 0.550399899482727\n",
      "Epoch 24, CIFAR-10 Batch 1:  Loss at 0.7573087811470032 and validation accuracy at 0.5561999678611755\n",
      "Epoch 24, CIFAR-10 Batch 2:  Loss at 0.49825167655944824 and validation accuracy at 0.5437999367713928\n",
      "Epoch 24, CIFAR-10 Batch 3:  Loss at 0.47052323818206787 and validation accuracy at 0.5609999299049377\n",
      "Epoch 24, CIFAR-10 Batch 4:  Loss at 0.6058558821678162 and validation accuracy at 0.5587999224662781\n",
      "Epoch 24, CIFAR-10 Batch 5:  Loss at 0.5805501937866211 and validation accuracy at 0.5523998737335205\n",
      "Epoch 25, CIFAR-10 Batch 1:  Loss at 0.7216097116470337 and validation accuracy at 0.5491999387741089\n",
      "Epoch 25, CIFAR-10 Batch 2:  Loss at 0.48750248551368713 and validation accuracy at 0.5359999537467957\n",
      "Epoch 25, CIFAR-10 Batch 3:  Loss at 0.4443691670894623 and validation accuracy at 0.559999942779541\n",
      "Epoch 25, CIFAR-10 Batch 4:  Loss at 0.5687843561172485 and validation accuracy at 0.558199942111969\n",
      "Epoch 25, CIFAR-10 Batch 5:  Loss at 0.5631768703460693 and validation accuracy at 0.556999921798706\n",
      "Epoch 26, CIFAR-10 Batch 1:  Loss at 0.6872590780258179 and validation accuracy at 0.5565999150276184\n",
      "Epoch 26, CIFAR-10 Batch 2:  Loss at 0.48946166038513184 and validation accuracy at 0.5501999258995056\n",
      "Epoch 26, CIFAR-10 Batch 3:  Loss at 0.42479026317596436 and validation accuracy at 0.5639998912811279\n",
      "Epoch 26, CIFAR-10 Batch 4:  Loss at 0.5381957292556763 and validation accuracy at 0.5571998953819275\n",
      "Epoch 26, CIFAR-10 Batch 5:  Loss at 0.5361884236335754 and validation accuracy at 0.5583999156951904\n",
      "Epoch 27, CIFAR-10 Batch 1:  Loss at 0.6583837270736694 and validation accuracy at 0.5541998744010925\n",
      "Epoch 27, CIFAR-10 Batch 2:  Loss at 0.4641568958759308 and validation accuracy at 0.5397999286651611\n",
      "Epoch 27, CIFAR-10 Batch 3:  Loss at 0.39533233642578125 and validation accuracy at 0.5677999258041382\n",
      "Epoch 27, CIFAR-10 Batch 4:  Loss at 0.509886622428894 and validation accuracy at 0.5575999617576599\n",
      "Epoch 27, CIFAR-10 Batch 5:  Loss at 0.5032276511192322 and validation accuracy at 0.561799943447113\n",
      "Epoch 28, CIFAR-10 Batch 1:  Loss at 0.6475890278816223 and validation accuracy at 0.5605999231338501\n",
      "Epoch 28, CIFAR-10 Batch 2:  Loss at 0.4553855061531067 and validation accuracy at 0.5503999590873718\n",
      "Epoch 28, CIFAR-10 Batch 3:  Loss at 0.39533933997154236 and validation accuracy at 0.5641999244689941\n",
      "Epoch 28, CIFAR-10 Batch 4:  Loss at 0.4915666878223419 and validation accuracy at 0.5611999034881592\n",
      "Epoch 28, CIFAR-10 Batch 5:  Loss at 0.4811137914657593 and validation accuracy at 0.5591999292373657\n",
      "Epoch 29, CIFAR-10 Batch 1:  Loss at 0.5887215733528137 and validation accuracy at 0.5525999069213867\n",
      "Epoch 29, CIFAR-10 Batch 2:  Loss at 0.4212694764137268 and validation accuracy at 0.5465999245643616\n",
      "Epoch 29, CIFAR-10 Batch 3:  Loss at 0.3670426309108734 and validation accuracy at 0.5649999380111694\n",
      "Epoch 29, CIFAR-10 Batch 4:  Loss at 0.4852425456047058 and validation accuracy at 0.5603999495506287\n",
      "Epoch 29, CIFAR-10 Batch 5:  Loss at 0.4447565972805023 and validation accuracy at 0.5635998845100403\n",
      "Epoch 30, CIFAR-10 Batch 1:  Loss at 0.5867869853973389 and validation accuracy at 0.5521999597549438\n",
      "Epoch 30, CIFAR-10 Batch 2:  Loss at 0.4319298267364502 and validation accuracy at 0.5457999110221863\n",
      "Epoch 30, CIFAR-10 Batch 3:  Loss at 0.3562888503074646 and validation accuracy at 0.5649999380111694\n",
      "Epoch 30, CIFAR-10 Batch 4:  Loss at 0.4380102753639221 and validation accuracy at 0.5655999183654785\n",
      "Epoch 30, CIFAR-10 Batch 5:  Loss at 0.4171624779701233 and validation accuracy at 0.5593999624252319\n",
      "Epoch 31, CIFAR-10 Batch 1:  Loss at 0.5622095465660095 and validation accuracy at 0.5595999360084534\n",
      "Epoch 31, CIFAR-10 Batch 2:  Loss at 0.3994055688381195 and validation accuracy at 0.5521999001502991\n",
      "Epoch 31, CIFAR-10 Batch 3:  Loss at 0.34614384174346924 and validation accuracy at 0.5653999447822571\n",
      "Epoch 31, CIFAR-10 Batch 4:  Loss at 0.4441879093647003 and validation accuracy at 0.5641999244689941\n",
      "Epoch 31, CIFAR-10 Batch 5:  Loss at 0.42060089111328125 and validation accuracy at 0.5621999502182007\n",
      "Epoch 32, CIFAR-10 Batch 1:  Loss at 0.552595853805542 and validation accuracy at 0.549799919128418\n",
      "Epoch 32, CIFAR-10 Batch 2:  Loss at 0.39752092957496643 and validation accuracy at 0.5473998785018921\n",
      "Epoch 32, CIFAR-10 Batch 3:  Loss at 0.34905239939689636 and validation accuracy at 0.564799964427948\n",
      "Epoch 32, CIFAR-10 Batch 4:  Loss at 0.41774722933769226 and validation accuracy at 0.5571999549865723\n",
      "Epoch 32, CIFAR-10 Batch 5:  Loss at 0.41078513860702515 and validation accuracy at 0.5685999393463135\n",
      "Epoch 33, CIFAR-10 Batch 1:  Loss at 0.5460096597671509 and validation accuracy at 0.553399920463562\n",
      "Epoch 33, CIFAR-10 Batch 2:  Loss at 0.3854438364505768 and validation accuracy at 0.549799919128418\n",
      "Epoch 33, CIFAR-10 Batch 3:  Loss at 0.3218819200992584 and validation accuracy at 0.5667999386787415\n",
      "Epoch 33, CIFAR-10 Batch 4:  Loss at 0.3945126533508301 and validation accuracy at 0.5717999339103699\n",
      "Epoch 33, CIFAR-10 Batch 5:  Loss at 0.41533246636390686 and validation accuracy at 0.568199872970581\n",
      "Epoch 34, CIFAR-10 Batch 1:  Loss at 0.5236935615539551 and validation accuracy at 0.5549999475479126\n",
      "Epoch 34, CIFAR-10 Batch 2:  Loss at 0.3849545121192932 and validation accuracy at 0.5550000071525574\n",
      "Epoch 34, CIFAR-10 Batch 3:  Loss at 0.33870434761047363 and validation accuracy at 0.5661999583244324\n",
      "Epoch 34, CIFAR-10 Batch 4:  Loss at 0.3814283609390259 and validation accuracy at 0.5729999542236328\n",
      "Epoch 34, CIFAR-10 Batch 5:  Loss at 0.3914189636707306 and validation accuracy at 0.5661998987197876\n",
      "Epoch 35, CIFAR-10 Batch 1:  Loss at 0.5448606014251709 and validation accuracy at 0.5541999340057373\n",
      "Epoch 35, CIFAR-10 Batch 2:  Loss at 0.38131004571914673 and validation accuracy at 0.5579999685287476\n",
      "Epoch 35, CIFAR-10 Batch 3:  Loss at 0.34580910205841064 and validation accuracy at 0.5627999305725098\n",
      "Epoch 35, CIFAR-10 Batch 4:  Loss at 0.3551650941371918 and validation accuracy at 0.5707999467849731\n",
      "Epoch 35, CIFAR-10 Batch 5:  Loss at 0.39302006363868713 and validation accuracy at 0.5609999299049377\n",
      "Epoch 36, CIFAR-10 Batch 1:  Loss at 0.5168675184249878 and validation accuracy at 0.5569999814033508\n",
      "Epoch 36, CIFAR-10 Batch 2:  Loss at 0.35577893257141113 and validation accuracy at 0.5521999597549438\n",
      "Epoch 36, CIFAR-10 Batch 3:  Loss at 0.333071231842041 and validation accuracy at 0.5633999109268188\n",
      "Epoch 36, CIFAR-10 Batch 4:  Loss at 0.34942176938056946 and validation accuracy at 0.5717999339103699\n",
      "Epoch 36, CIFAR-10 Batch 5:  Loss at 0.3475787043571472 and validation accuracy at 0.5671999454498291\n",
      "Epoch 37, CIFAR-10 Batch 1:  Loss at 0.48856034874916077 and validation accuracy at 0.5597999095916748\n",
      "Epoch 37, CIFAR-10 Batch 2:  Loss at 0.36570242047309875 and validation accuracy at 0.5567998886108398\n",
      "Epoch 37, CIFAR-10 Batch 3:  Loss at 0.32959163188934326 and validation accuracy at 0.5641999244689941\n",
      "Epoch 37, CIFAR-10 Batch 4:  Loss at 0.35294288396835327 and validation accuracy at 0.568199872970581\n",
      "Epoch 37, CIFAR-10 Batch 5:  Loss at 0.36134785413742065 and validation accuracy at 0.5615999102592468\n",
      "Epoch 38, CIFAR-10 Batch 1:  Loss at 0.48350101709365845 and validation accuracy at 0.5555999875068665\n",
      "Epoch 38, CIFAR-10 Batch 2:  Loss at 0.3476329743862152 and validation accuracy at 0.5577998757362366\n",
      "Epoch 38, CIFAR-10 Batch 3:  Loss at 0.33429455757141113 and validation accuracy at 0.5655999183654785\n",
      "Epoch 38, CIFAR-10 Batch 4:  Loss at 0.3401108384132385 and validation accuracy at 0.5643998980522156\n",
      "Epoch 38, CIFAR-10 Batch 5:  Loss at 0.32975059747695923 and validation accuracy at 0.5605999231338501\n",
      "Epoch 39, CIFAR-10 Batch 1:  Loss at 0.47668883204460144 and validation accuracy at 0.5641999244689941\n",
      "Epoch 39, CIFAR-10 Batch 2:  Loss at 0.35512906312942505 and validation accuracy at 0.5611999034881592\n",
      "Epoch 39, CIFAR-10 Batch 3:  Loss at 0.33440420031547546 and validation accuracy at 0.5727999210357666\n",
      "Epoch 39, CIFAR-10 Batch 4:  Loss at 0.32327237725257874 and validation accuracy at 0.5651999711990356\n",
      "Epoch 39, CIFAR-10 Batch 5:  Loss at 0.3190588355064392 and validation accuracy at 0.5667999386787415\n",
      "Epoch 40, CIFAR-10 Batch 1:  Loss at 0.4542539715766907 and validation accuracy at 0.5607998967170715\n",
      "Epoch 40, CIFAR-10 Batch 2:  Loss at 0.34286555647850037 and validation accuracy at 0.5571998953819275\n",
      "Epoch 40, CIFAR-10 Batch 3:  Loss at 0.3112335205078125 and validation accuracy at 0.572399914264679\n",
      "Epoch 40, CIFAR-10 Batch 4:  Loss at 0.3211885094642639 and validation accuracy at 0.5649998784065247\n",
      "Epoch 40, CIFAR-10 Batch 5:  Loss at 0.3229956030845642 and validation accuracy at 0.5715999007225037\n",
      "Epoch 41, CIFAR-10 Batch 1:  Loss at 0.46744009852409363 and validation accuracy at 0.5597999691963196\n",
      "Epoch 41, CIFAR-10 Batch 2:  Loss at 0.3252577781677246 and validation accuracy at 0.5607998967170715\n",
      "Epoch 41, CIFAR-10 Batch 3:  Loss at 0.2934446334838867 and validation accuracy at 0.5657999515533447\n",
      "Epoch 41, CIFAR-10 Batch 4:  Loss at 0.32703128457069397 and validation accuracy at 0.5595999360084534\n",
      "Epoch 41, CIFAR-10 Batch 5:  Loss at 0.3003663420677185 and validation accuracy at 0.567599892616272\n",
      "Epoch 42, CIFAR-10 Batch 1:  Loss at 0.43747901916503906 and validation accuracy at 0.5583999156951904\n",
      "Epoch 42, CIFAR-10 Batch 2:  Loss at 0.31799304485321045 and validation accuracy at 0.5621999502182007\n",
      "Epoch 42, CIFAR-10 Batch 3:  Loss at 0.290940523147583 and validation accuracy at 0.5715999603271484\n",
      "Epoch 42, CIFAR-10 Batch 4:  Loss at 0.30701059103012085 and validation accuracy at 0.5603998899459839\n",
      "Epoch 42, CIFAR-10 Batch 5:  Loss at 0.28037166595458984 and validation accuracy at 0.5705999135971069\n",
      "Epoch 43, CIFAR-10 Batch 1:  Loss at 0.42128610610961914 and validation accuracy at 0.5571998953819275\n",
      "Epoch 43, CIFAR-10 Batch 2:  Loss at 0.31189587712287903 and validation accuracy at 0.5555999279022217\n",
      "Epoch 43, CIFAR-10 Batch 3:  Loss at 0.2769168019294739 and validation accuracy at 0.5667999386787415\n",
      "Epoch 43, CIFAR-10 Batch 4:  Loss at 0.27882665395736694 and validation accuracy at 0.5647999048233032\n",
      "Epoch 43, CIFAR-10 Batch 5:  Loss at 0.28368788957595825 and validation accuracy at 0.5685999393463135\n",
      "Epoch 44, CIFAR-10 Batch 1:  Loss at 0.4318676292896271 and validation accuracy at 0.556399941444397\n",
      "Epoch 44, CIFAR-10 Batch 2:  Loss at 0.31004446744918823 and validation accuracy at 0.5533999800682068\n",
      "Epoch 44, CIFAR-10 Batch 3:  Loss at 0.27824416756629944 and validation accuracy at 0.5733999013900757\n",
      "Epoch 44, CIFAR-10 Batch 4:  Loss at 0.28736215829849243 and validation accuracy at 0.5627999305725098\n",
      "Epoch 44, CIFAR-10 Batch 5:  Loss at 0.2876904010772705 and validation accuracy at 0.5645999312400818\n",
      "Epoch 45, CIFAR-10 Batch 1:  Loss at 0.4281160831451416 and validation accuracy at 0.5531998872756958\n",
      "Epoch 45, CIFAR-10 Batch 2:  Loss at 0.3094489872455597 and validation accuracy at 0.5685999393463135\n",
      "Epoch 45, CIFAR-10 Batch 3:  Loss at 0.2720099687576294 and validation accuracy at 0.5695999264717102\n",
      "Epoch 45, CIFAR-10 Batch 4:  Loss at 0.2879202961921692 and validation accuracy at 0.5621999502182007\n",
      "Epoch 45, CIFAR-10 Batch 5:  Loss at 0.2948073744773865 and validation accuracy at 0.5657999515533447\n",
      "Epoch 46, CIFAR-10 Batch 1:  Loss at 0.428408145904541 and validation accuracy at 0.553399920463562\n",
      "Epoch 46, CIFAR-10 Batch 2:  Loss at 0.3020988702774048 and validation accuracy at 0.5565999746322632\n",
      "Epoch 46, CIFAR-10 Batch 3:  Loss at 0.28318342566490173 and validation accuracy at 0.571199893951416\n",
      "Epoch 46, CIFAR-10 Batch 4:  Loss at 0.2790764272212982 and validation accuracy at 0.5679998993873596\n",
      "Epoch 46, CIFAR-10 Batch 5:  Loss at 0.26714545488357544 and validation accuracy at 0.5707998871803284\n",
      "Epoch 47, CIFAR-10 Batch 1:  Loss at 0.3974669277667999 and validation accuracy at 0.5583999156951904\n",
      "Epoch 47, CIFAR-10 Batch 2:  Loss at 0.3044624626636505 and validation accuracy at 0.5575999021530151\n",
      "Epoch 47, CIFAR-10 Batch 3:  Loss at 0.2611372470855713 and validation accuracy at 0.567599892616272\n",
      "Epoch 47, CIFAR-10 Batch 4:  Loss at 0.27551668882369995 and validation accuracy at 0.5621999502182007\n",
      "Epoch 47, CIFAR-10 Batch 5:  Loss at 0.24913963675498962 and validation accuracy at 0.5667999386787415\n",
      "Epoch 48, CIFAR-10 Batch 1:  Loss at 0.4126874804496765 and validation accuracy at 0.5625998973846436\n",
      "Epoch 48, CIFAR-10 Batch 2:  Loss at 0.29793623089790344 and validation accuracy at 0.5583999752998352\n",
      "Epoch 48, CIFAR-10 Batch 3:  Loss at 0.27013513445854187 and validation accuracy at 0.5687999129295349\n",
      "Epoch 48, CIFAR-10 Batch 4:  Loss at 0.26716893911361694 and validation accuracy at 0.5661998987197876\n",
      "Epoch 48, CIFAR-10 Batch 5:  Loss at 0.2645178437232971 and validation accuracy at 0.5669998526573181\n",
      "Epoch 49, CIFAR-10 Batch 1:  Loss at 0.38836151361465454 and validation accuracy at 0.5579999685287476\n",
      "Epoch 49, CIFAR-10 Batch 2:  Loss at 0.2928539216518402 and validation accuracy at 0.5603999495506287\n",
      "Epoch 49, CIFAR-10 Batch 3:  Loss at 0.2538360357284546 and validation accuracy at 0.5677999258041382\n",
      "Epoch 49, CIFAR-10 Batch 4:  Loss at 0.27692723274230957 and validation accuracy at 0.5563998818397522\n",
      "Epoch 49, CIFAR-10 Batch 5:  Loss at 0.24480970203876495 and validation accuracy at 0.5689999461174011\n",
      "Epoch 50, CIFAR-10 Batch 1:  Loss at 0.3781510293483734 and validation accuracy at 0.5627999305725098\n",
      "Epoch 50, CIFAR-10 Batch 2:  Loss at 0.2953089475631714 and validation accuracy at 0.5539999604225159\n",
      "Epoch 50, CIFAR-10 Batch 3:  Loss at 0.25132128596305847 and validation accuracy at 0.568399965763092\n",
      "Epoch 50, CIFAR-10 Batch 4:  Loss at 0.27729734778404236 and validation accuracy at 0.558199942111969\n",
      "Epoch 50, CIFAR-10 Batch 5:  Loss at 0.22993364930152893 and validation accuracy at 0.5655999183654785\n"
     ]
    }
   ],
   "source": [
    "\"\"\"\n",
    "DON'T MODIFY ANYTHING IN THIS CELL\n",
    "\"\"\"\n",
    "save_model_path = './image_classification'\n",
    "\n",
    "print('Training...')\n",
    "with tf.Session() as sess:\n",
    "    # Initializing the variables\n",
    "    sess.run(tf.global_variables_initializer())\n",
    "    \n",
    "    # Training cycle\n",
    "    for epoch in range(epochs):\n",
    "        # Loop over all batches\n",
    "        n_batches = 5\n",
    "        for batch_i in range(1, n_batches + 1):\n",
    "            for batch_features, batch_labels in helper.load_preprocess_training_batch(batch_i, batch_size):\n",
    "                train_neural_network(sess, optimizer, keep_probability, batch_features, batch_labels)\n",
    "            print('Epoch {:>2}, CIFAR-10 Batch {}:  '.format(epoch + 1, batch_i), end='')\n",
    "            print_stats(sess, batch_features, batch_labels, cost, accuracy)\n",
    "            \n",
    "    # Save Model\n",
    "    saver = tf.train.Saver()\n",
    "    save_path = saver.save(sess, save_model_path)"
   ]
  },
  {
   "cell_type": "markdown",
   "metadata": {
    "deletable": true,
    "editable": true
   },
   "source": [
    "# Checkpoint\n",
    "The model has been saved to disk.\n",
    "## Test Model\n",
    "Test your model against the test dataset.  This will be your final accuracy. You should have an accuracy greater than 50%. If you don't, keep tweaking the model architecture and parameters."
   ]
  },
  {
   "cell_type": "code",
   "execution_count": 57,
   "metadata": {
    "collapsed": false,
    "deletable": true,
    "editable": true
   },
   "outputs": [
    {
     "name": "stdout",
     "output_type": "stream",
     "text": [
      "Testing Accuracy: 0.573828125\n",
      "\n"
     ]
    },
    {
     "data": {
      "image/png": "[encoded data removed]",
      "text/plain": [
       "<matplotlib.figure.Figure at 0x7f847699c0b8>"
      ]
     },
     "metadata": {
      "image/png": {
       "height": 319,
       "width": 355
      }
     },
     "output_type": "display_data"
    }
   ],
   "source": [
    "\"\"\"\n",
    "DON'T MODIFY ANYTHING IN THIS CELL\n",
    "\"\"\"\n",
    "%matplotlib inline\n",
    "%config InlineBackend.figure_format = 'retina'\n",
    "\n",
    "import tensorflow as tf\n",
    "import pickle\n",
    "import helper\n",
    "import random\n",
    "\n",
    "# Set batch size if not already set\n",
    "try:\n",
    "    if batch_size:\n",
    "        pass\n",
    "except NameError:\n",
    "    batch_size = 64\n",
    "\n",
    "save_model_path = './image_classification'\n",
    "n_samples = 4\n",
    "top_n_predictions = 3\n",
    "\n",
    "def test_model():\n",
    "    \"\"\"\n",
    "    Test the saved model against the test dataset\n",
    "    \"\"\"\n",
    "\n",
    "    test_features, test_labels = pickle.load(open('preprocess_training.p', mode='rb'))\n",
    "    loaded_graph = tf.Graph()\n",
    "\n",
    "    with tf.Session(graph=loaded_graph) as sess:\n",
    "        # Load model\n",
    "        loader = tf.train.import_meta_graph(save_model_path + '.meta')\n",
    "        loader.restore(sess, save_model_path)\n",
    "\n",
    "        # Get Tensors from loaded model\n",
    "        loaded_x = loaded_graph.get_tensor_by_name('x:0')\n",
    "        loaded_y = loaded_graph.get_tensor_by_name('y:0')\n",
    "        loaded_keep_prob = loaded_graph.get_tensor_by_name('keep_prob:0')\n",
    "        loaded_logits = loaded_graph.get_tensor_by_name('logits:0')\n",
    "        loaded_acc = loaded_graph.get_tensor_by_name('accuracy:0')\n",
    "        \n",
    "        # Get accuracy in batches for memory limitations\n",
    "        test_batch_acc_total = 0\n",
    "        test_batch_count = 0\n",
    "        \n",
    "        for train_feature_batch, train_label_batch in helper.batch_features_labels(test_features, test_labels, batch_size):\n",
    "            test_batch_acc_total += sess.run(\n",
    "                loaded_acc,\n",
    "                feed_dict={loaded_x: train_feature_batch, loaded_y: train_label_batch, loaded_keep_prob: 1.0})\n",
    "            test_batch_count += 1\n",
    "\n",
    "        print('Testing Accuracy: {}\\n'.format(test_batch_acc_total/test_batch_count))\n",
    "\n",
    "        # Print Random Samples\n",
    "        random_test_features, random_test_labels = tuple(zip(*random.sample(list(zip(test_features, test_labels)), n_samples)))\n",
    "        random_test_predictions = sess.run(\n",
    "            tf.nn.top_k(tf.nn.softmax(loaded_logits), top_n_predictions),\n",
    "            feed_dict={loaded_x: random_test_features, loaded_y: random_test_labels, loaded_keep_prob: 1.0})\n",
    "        helper.display_image_predictions(random_test_features, random_test_labels, random_test_predictions)\n",
    "\n",
    "\n",
    "test_model()"
   ]
  },
  {
   "cell_type": "markdown",
   "metadata": {
    "deletable": true,
    "editable": true
   },
   "source": [
    "## Why 50-80% Accuracy?\n",
    "You might be wondering why you can't get an accuracy any higher. First things first, 50% isn't bad for a simple CNN.  Pure guessing would get you 10% accuracy. However, you might notice people are getting scores [well above 80%](http://rodrigob.github.io/are_we_there_yet/build/classification_datasets_results.html#43494641522d3130).  That's because we haven't taught you all there is to know about neural networks. We still need to cover a few more techniques.\n",
    "## Submitting This Project\n",
    "When submitting this project, make sure to run all the cells before saving the notebook.  Save the notebook file as \"dlnd_image_classification.ipynb\" and save it as a HTML file under \"File\" -> \"Download as\".  Include the \"helper.py\" and \"problem_unittests.py\" files in your submission."
   ]
  }
 ],
 "metadata": {
  "kernelspec": {
   "display_name": "Python 3",
   "language": "python",
   "name": "python3"
  },
  "language_info": {
   "codemirror_mode": {
    "name": "ipython",
    "version": 3
   },
   "file_extension": ".py",
   "mimetype": "text/x-python",
   "name": "python",
   "nbconvert_exporter": "python",
   "pygments_lexer": "ipython3",
   "version": "3.5.2"
  },
  "widgets": {
   "state": {},
   "version": "1.1.2"
  }
 },
 "nbformat": 4,
 "nbformat_minor": 0
}
